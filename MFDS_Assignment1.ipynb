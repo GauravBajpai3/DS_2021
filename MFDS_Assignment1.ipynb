{
  "nbformat": 4,
  "nbformat_minor": 0,
  "metadata": {
    "colab": {
      "name": "Assignment1.ipynb",
      "provenance": [],
      "collapsed_sections": [],
      "authorship_tag": "ABX9TyO6SzXMIkXTQR7irE9NP8gU",
      "include_colab_link": true
    },
    "kernelspec": {
      "name": "python3",
      "display_name": "Python 3"
    },
    "language_info": {
      "name": "python"
    },
    "accelerator": "GPU"
  },
  "cells": [
    {
      "cell_type": "markdown",
      "metadata": {
        "id": "view-in-github",
        "colab_type": "text"
      },
      "source": [
        "<a href=\"https://colab.research.google.com/github/GauravBajpai3/DS_2021/blob/main/MFDS_Assignment1.ipynb\" target=\"_parent\"><img src=\"https://colab.research.google.com/assets/colab-badge.svg\" alt=\"Open In Colab\"/></a>"
      ]
    },
    {
      "cell_type": "code",
      "metadata": {
        "colab": {
          "base_uri": "https://localhost:8080/"
        },
        "id": "FM2gEEWEp4UY",
        "outputId": "dcce883f-3943-486d-ed70-a366519a972e"
      },
      "source": [
        "import time\n",
        "import random as rd\n",
        "\n",
        "num1=rd.randint(0,1000000)\n",
        "num2=rd.randint(0,1000000)\n",
        "\n",
        "num_range = 1000000\n",
        "strt_time = time.time()\n",
        "\n",
        "for num in range(1,num_range+1):\n",
        "  result=num1+num2\n",
        "\n",
        "end_time = time.time()\n",
        "\n",
        "total_time = end_time - strt_time\n",
        "\n",
        "print(\"Total Time Taken - \", total_time)\n",
        "print(\"Tiem per Operation - \", total_time/num_range)"
      ],
      "execution_count": null,
      "outputs": [
        {
          "output_type": "stream",
          "name": "stdout",
          "text": [
            "Total Time Taken -  0.12464690208435059\n",
            "Tiem per Operation -  1.246469020843506e-07\n"
          ]
        }
      ]
    },
    {
      "cell_type": "code",
      "metadata": {
        "colab": {
          "base_uri": "https://localhost:8080/"
        },
        "id": "SGr7soEX4HK6",
        "outputId": "50343cec-075f-45e5-d390-7baf0b53b9e2"
      },
      "source": [
        "import time\n",
        "import random as rd\n",
        "\n",
        "num1=rd.randint(0,1000000)\n",
        "num2=rd.randint(0,1000000)\n",
        "\n",
        "num_range = 1000000\n",
        "strt_time = time.time()\n",
        "\n",
        "for num in range(1,num_range+1):\n",
        "  result=num1*num2\n",
        "\n",
        "end_time = time.time()\n",
        "\n",
        "total_time = end_time - strt_time\n",
        "\n",
        "print(\"Total Time Taken - \", total_time)\n",
        "print(\"Tiem per Operation - \", total_time/num_range)"
      ],
      "execution_count": null,
      "outputs": [
        {
          "output_type": "stream",
          "name": "stdout",
          "text": [
            "Total Time Taken -  0.1186068058013916\n",
            "Tiem per Operation -  1.186068058013916e-07\n"
          ]
        }
      ]
    },
    {
      "cell_type": "code",
      "metadata": {
        "colab": {
          "base_uri": "https://localhost:8080/"
        },
        "id": "z0oP-dbLsyXs",
        "outputId": "97f52673-af36-4cbd-f397-62bbd26a18dc"
      },
      "source": [
        "import time\n",
        "import random as rd\n",
        "\n",
        "num1=rd.randint(0,1000000)\n",
        "num2=rd.randint(0,1000000)\n",
        "\n",
        "num_range = 1000000\n",
        "strt_time = time.time()\n",
        "\n",
        "for num in range(1,num_range+1):\n",
        "  result=num1/num2\n",
        "\n",
        "end_time = time.time()\n",
        "\n",
        "total_time = end_time - strt_time\n",
        "\n",
        "print(\"Total Time Taken - \", total_time)\n",
        "print(\"Tiem per Operation - \", total_time/num_range)"
      ],
      "execution_count": null,
      "outputs": [
        {
          "output_type": "stream",
          "name": "stdout",
          "text": [
            "Total Time Taken -  0.10894274711608887\n",
            "Tiem per Operation -  1.0894274711608886e-07\n"
          ]
        }
      ]
    },
    {
      "cell_type": "code",
      "metadata": {
        "colab": {
          "base_uri": "https://localhost:8080/"
        },
        "id": "-beqnoEQb6LW",
        "outputId": "e1cefd07-8e69-4329-f3bf-536a22b94c8b"
      },
      "source": [
        "result=[\"abc\",\"xyz\"]\n",
        "print(len(result))"
      ],
      "execution_count": null,
      "outputs": [
        {
          "output_type": "stream",
          "name": "stdout",
          "text": [
            "2\n"
          ]
        }
      ]
    },
    {
      "cell_type": "code",
      "metadata": {
        "id": "zJb7zDfkwtC1"
      },
      "source": [
        ""
      ],
      "execution_count": null,
      "outputs": []
    },
    {
      "cell_type": "markdown",
      "metadata": {
        "id": "bprdjz8cwvRy"
      },
      "source": [
        "<b>Question -2.i</b>\n",
        "(Diagonally Dominance Check)"
      ]
    },
    {
      "cell_type": "code",
      "metadata": {
        "colab": {
          "base_uri": "https://localhost:8080/"
        },
        "id": "e147MKhIw36s",
        "outputId": "3d37e69c-afe7-43fb-d336-59da983ba16d"
      },
      "source": [
        "import random as rd\n",
        "\n",
        "#Function to generate random matrix of range(m,n)\n",
        "# zero_fill is flag to create Zero Matrix\n",
        "def Generate_Random_Matrix(m,n,zero_fill):\n",
        "  #random_matrix = [[0,0],[0,0]]\n",
        "  #random_matrix = [[0 for k in range(m)]] * n\n",
        "  matrix = []\n",
        "  #print(random_matrix)\n",
        "  for i in range(m):\n",
        "    row = []\n",
        "    for j in range(n):\n",
        "      #random_matrix[i][j] = rd.randint(0,100)\n",
        "      if(zero_fill=='Y'):\n",
        "        row.append(0)\n",
        "      else:\n",
        "        row.append(rd.randint(-100,100))\n",
        "    matrix.append(row)\n",
        "  return matrix\n",
        "\n",
        "# Function to check Diagonally Dependent Matrix and Suggest Row movement if possible\n",
        "def is_diagonally_dependent(matrix):\n",
        "  m=len(matrix)\n",
        "  n=len(matrix[0])\n",
        "\n",
        "  print(\"Initialized Matrix B with Zero entries -\")\n",
        "  B = Generate_Random_Matrix(m,n,'Y')\n",
        "  print(B)\n",
        "  print(\"\\n\")\n",
        "\n",
        "  print(\"Update Matrix B as per below condition -\")\n",
        "  print(\"b(i,j) = 1 if |a(i,j)| > a(i,1)| + |a(i,2)| + ... + |a(i,j-1)| + |a(i,j+1)| + |a(i,n)|\")\n",
        "  print(\"       = 0 otherwise\")\n",
        "  print(\"\\n\")\n",
        "\n",
        "  for i in range(m):\n",
        "    sum = 0\n",
        "    for j in range(n):\n",
        "      sum = sum + abs(matrix[i][j])\n",
        "    for k in range(n):\n",
        "      B[i][k] = 1 if(abs(matrix[i][k])> sum - abs(matrix[i][k])) else 0\n",
        " \n",
        "  print(\"Updated Matrix B -\\n\",B,\"\\n\")\n",
        "\n",
        "  # Check for Diagonally Dominance and Row movement if required.\n",
        "  move_rows = \"\"\n",
        "  for i in range(m):\n",
        "    sum = 0\n",
        "    for j in range(n):\n",
        "      sum = sum + B[i][j] # Sum of Row Elements\n",
        "    \n",
        "    if(sum == 1 and B[i][i]==1):\n",
        "      ind = True\n",
        "    else:\n",
        "      if(sum != 1):\n",
        "        ind = False\n",
        "        move_rows = \"No Row Movement Possible\"\n",
        "        return ind,move_rows      \n",
        "      else:\n",
        "        if(sum == 1 and B[i][i] != 1):\n",
        "          move_rows = move_rows + str(i+1) + \" \"\n",
        "          ind = False\n",
        " \n",
        "  return ind,move_rows\n",
        "\n",
        "\n",
        "#A = [[5,-1,3],[2,-8,1],[-2,0,4]]\n",
        "#A = [[-2,0,4],[2,-8,1],[5,-1,3]]\n",
        "#A = [[4,2,-2],[0,4,2],[1,0,4]]\n",
        "A = [[3,1,2],[2,4,1],[1,1,2]]\n",
        " \n",
        "#A = Generate_Random_Matrix(3,3,'N')\n",
        "\n",
        "print(\"Input Matrix A -\\n\",A,\"\\n\")\n",
        "is_diag,rows = is_diagonally_dependent(A)\n",
        "\n",
        "print(\"Result -\")\n",
        "if(is_diag):\n",
        "  print(\"*** A is Diagonally Dependent\")\n",
        "else:\n",
        "  print(\"*** A is Not Diagonally Dependent\")\n",
        "  print(\"*** Required Rows Movement : \",rows)\n",
        "\n"
      ],
      "execution_count": 140,
      "outputs": [
        {
          "output_type": "stream",
          "name": "stdout",
          "text": [
            "Input Matrix A -\n",
            " [[3, 1, 2], [2, 4, 1], [1, 1, 2]] \n",
            "\n",
            "Initialized Matrix B with Zero entries -\n",
            "[[0, 0, 0], [0, 0, 0], [0, 0, 0]]\n",
            "\n",
            "\n",
            "Update Matrix B as per below condition -\n",
            "b(i,j) = 1 if |a(i,j)| > a(i,1)| + |a(i,2)| + ... + |a(i,j-1)| + |a(i,j+1)| + |a(i,n)|\n",
            "       = 0 otherwise\n",
            "\n",
            "\n",
            "Updated Matrix B -\n",
            " [[0, 0, 0], [0, 1, 0], [0, 0, 0]] \n",
            "\n",
            "Result -\n",
            "*** A is Not Diagonally Dependent\n",
            "*** Required Rows Movement :  No Row Movement Possible\n"
          ]
        }
      ]
    },
    {
      "cell_type": "markdown",
      "metadata": {
        "id": "0_7vVAfiIvg3"
      },
      "source": [
        "<b>Question -2.ii</b>\n",
        "(Gauss Seidel Method)"
      ]
    },
    {
      "cell_type": "code",
      "metadata": {
        "colab": {
          "base_uri": "https://localhost:8080/"
        },
        "id": "qg8sC-1QIzKj",
        "outputId": "0310773e-95ab-42cb-99c7-52f3e811e1f4"
      },
      "source": [
        "\n",
        "# Defining our function as seidel which takes 3 arguments\n",
        "# as A matrix, Solution and B matrix\n",
        "   \n",
        "def seidel(a, x ,b):\n",
        "    #Finding length of a(3)       \n",
        "    n = len(a)                   \n",
        "    # for loop for 3 times as to calculate x, y , z\n",
        "    for j in range(0, n):        \n",
        "        # temp variable d to store b[j]\n",
        "        d = b[j]                  \n",
        "          \n",
        "        # to calculate respective xi, yi, zi\n",
        "        for i in range(0, n):     \n",
        "            if(j != i):\n",
        "                d-=a[j][i] * x[i]\n",
        "        # updating the value of our solution        \n",
        "        x[j] = d / a[j][j]\n",
        "    # returning our updated solution           \n",
        "    return x    \n",
        "   \n",
        "# int(input())input as number of variable to be solved                \n",
        "n = 3                              \n",
        "a = []                            \n",
        "b = []        \n",
        "# initial solution depending on n(here n=3)                     \n",
        "x = [0, 0, 0]                        \n",
        "a = [[4, 1, 2],[3, 5, 1],[1, 1, 3]]\n",
        "b = [4,7,3]\n",
        "\n",
        "print(\"A = \",a)\n",
        "print(\"X = \",x)\n",
        "print(\"B = \",b,\"\\n\")\n",
        "\n",
        "#loop run for m times depending on m the error value\n",
        "for i in range(0, 30):            \n",
        "    x = seidel(a, x, b)\n",
        "    #print each time the updated solution\n",
        "    print(\"Iteration: \",i,\" - \",x)"
      ],
      "execution_count": 161,
      "outputs": [
        {
          "output_type": "stream",
          "name": "stdout",
          "text": [
            "A =  [[4, 1, 2], [3, 5, 1], [1, 1, 3]]\n",
            "X =  [0, 0, 0]\n",
            "B =  [4, 7, 3] \n",
            "\n",
            "Iteration:  0  -  [1.0, 0.8, 0.39999999999999997]\n",
            "Iteration:  1  -  [0.6000000000000001, 0.9599999999999997, 0.48000000000000004]\n",
            "Iteration:  2  -  [0.52, 0.9919999999999998, 0.49600000000000005]\n",
            "Iteration:  3  -  [0.504, 0.9983999999999998, 0.4992000000000001]\n",
            "Iteration:  4  -  [0.5008, 0.99968, 0.49984]\n",
            "Iteration:  5  -  [0.5001599999999999, 0.9999360000000002, 0.4999679999999999]\n",
            "Iteration:  6  -  [0.500032, 0.9999872, 0.4999936]\n",
            "Iteration:  7  -  [0.5000064, 0.9999974400000001, 0.49999871999999995]\n",
            "Iteration:  8  -  [0.50000128, 0.999999488, 0.4999997439999999]\n",
            "Iteration:  9  -  [0.500000256, 0.9999998976000001, 0.49999994880000004]\n",
            "Iteration:  10  -  [0.5000000512, 0.9999999795199999, 0.4999999897600001]\n",
            "Iteration:  11  -  [0.50000001024, 0.999999995904, 0.499999997952]\n",
            "Iteration:  12  -  [0.500000002048, 0.9999999991808, 0.49999999959040003]\n",
            "Iteration:  13  -  [0.5000000004095999, 0.9999999998361601, 0.49999999991808003]\n",
            "Iteration:  14  -  [0.50000000008192, 0.9999999999672321, 0.49999999998361594]\n",
            "Iteration:  15  -  [0.500000000016384, 0.9999999999934465, 0.49999999999672307]\n",
            "Iteration:  16  -  [0.5000000000032768, 0.9999999999986894, 0.4999999999993445]\n",
            "Iteration:  17  -  [0.5000000000006554, 0.9999999999997378, 0.49999999999986894]\n",
            "Iteration:  18  -  [0.500000000000131, 0.9999999999999478, 0.49999999999997374]\n",
            "Iteration:  19  -  [0.5000000000000262, 0.9999999999999897, 0.49999999999999467]\n",
            "Iteration:  20  -  [0.5000000000000052, 0.9999999999999979, 0.49999999999999895]\n",
            "Iteration:  21  -  [0.5000000000000011, 0.9999999999999994, 0.49999999999999983]\n",
            "Iteration:  22  -  [0.5000000000000002, 0.9999999999999998, 0.5000000000000001]\n",
            "Iteration:  23  -  [0.49999999999999994, 1.0, 0.5]\n",
            "Iteration:  24  -  [0.5, 1.0, 0.5]\n",
            "Iteration:  25  -  [0.5, 1.0, 0.5]\n",
            "Iteration:  26  -  [0.5, 1.0, 0.5]\n",
            "Iteration:  27  -  [0.5, 1.0, 0.5]\n",
            "Iteration:  28  -  [0.5, 1.0, 0.5]\n",
            "Iteration:  29  -  [0.5, 1.0, 0.5]\n"
          ]
        }
      ]
    }
  ]
}