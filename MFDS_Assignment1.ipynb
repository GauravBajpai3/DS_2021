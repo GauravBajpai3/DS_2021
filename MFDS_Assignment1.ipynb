{
  "nbformat": 4,
  "nbformat_minor": 0,
  "metadata": {
    "colab": {
      "name": "Assignment1.ipynb",
      "provenance": [],
      "collapsed_sections": [],
      "authorship_tag": "ABX9TyMggEHewwGj8ZLG6D+oj3wz",
      "include_colab_link": true
    },
    "kernelspec": {
      "name": "python3",
      "display_name": "Python 3"
    },
    "language_info": {
      "name": "python"
    },
    "accelerator": "GPU"
  },
  "cells": [
    {
      "cell_type": "markdown",
      "metadata": {
        "id": "view-in-github",
        "colab_type": "text"
      },
      "source": [
        "<a href=\"https://colab.research.google.com/github/GauravBajpai3/DS_2021/blob/main/MFDS_Assignment1.ipynb\" target=\"_parent\"><img src=\"https://colab.research.google.com/assets/colab-badge.svg\" alt=\"Open In Colab\"/></a>"
      ]
    },
    {
      "cell_type": "code",
      "metadata": {
        "colab": {
          "base_uri": "https://localhost:8080/"
        },
        "id": "FM2gEEWEp4UY",
        "outputId": "dcce883f-3943-486d-ed70-a366519a972e"
      },
      "source": [
        "import time\n",
        "import random as rd\n",
        "\n",
        "num1=rd.randint(0,1000000)\n",
        "num2=rd.randint(0,1000000)\n",
        "\n",
        "num_range = 1000000\n",
        "strt_time = time.time()\n",
        "\n",
        "for num in range(1,num_range+1):\n",
        "  result=num1+num2\n",
        "\n",
        "end_time = time.time()\n",
        "\n",
        "total_time = end_time - strt_time\n",
        "\n",
        "print(\"Total Time Taken - \", total_time)\n",
        "print(\"Tiem per Operation - \", total_time/num_range)"
      ],
      "execution_count": null,
      "outputs": [
        {
          "output_type": "stream",
          "name": "stdout",
          "text": [
            "Total Time Taken -  0.12464690208435059\n",
            "Tiem per Operation -  1.246469020843506e-07\n"
          ]
        }
      ]
    },
    {
      "cell_type": "code",
      "metadata": {
        "colab": {
          "base_uri": "https://localhost:8080/"
        },
        "id": "SGr7soEX4HK6",
        "outputId": "50343cec-075f-45e5-d390-7baf0b53b9e2"
      },
      "source": [
        "import time\n",
        "import random as rd\n",
        "\n",
        "num1=rd.randint(0,1000000)\n",
        "num2=rd.randint(0,1000000)\n",
        "\n",
        "num_range = 1000000\n",
        "strt_time = time.time()\n",
        "\n",
        "for num in range(1,num_range+1):\n",
        "  result=num1*num2\n",
        "\n",
        "end_time = time.time()\n",
        "\n",
        "total_time = end_time - strt_time\n",
        "\n",
        "print(\"Total Time Taken - \", total_time)\n",
        "print(\"Tiem per Operation - \", total_time/num_range)"
      ],
      "execution_count": null,
      "outputs": [
        {
          "output_type": "stream",
          "name": "stdout",
          "text": [
            "Total Time Taken -  0.1186068058013916\n",
            "Tiem per Operation -  1.186068058013916e-07\n"
          ]
        }
      ]
    },
    {
      "cell_type": "code",
      "metadata": {
        "colab": {
          "base_uri": "https://localhost:8080/"
        },
        "id": "z0oP-dbLsyXs",
        "outputId": "97f52673-af36-4cbd-f397-62bbd26a18dc"
      },
      "source": [
        "import time\n",
        "import random as rd\n",
        "\n",
        "num1=rd.randint(0,1000000)\n",
        "num2=rd.randint(0,1000000)\n",
        "\n",
        "num_range = 1000000\n",
        "strt_time = time.time()\n",
        "\n",
        "for num in range(1,num_range+1):\n",
        "  result=num1/num2\n",
        "\n",
        "end_time = time.time()\n",
        "\n",
        "total_time = end_time - strt_time\n",
        "\n",
        "print(\"Total Time Taken - \", total_time)\n",
        "print(\"Tiem per Operation - \", total_time/num_range)"
      ],
      "execution_count": null,
      "outputs": [
        {
          "output_type": "stream",
          "name": "stdout",
          "text": [
            "Total Time Taken -  0.10894274711608887\n",
            "Tiem per Operation -  1.0894274711608886e-07\n"
          ]
        }
      ]
    },
    {
      "cell_type": "code",
      "metadata": {
        "colab": {
          "base_uri": "https://localhost:8080/"
        },
        "id": "-beqnoEQb6LW",
        "outputId": "e1cefd07-8e69-4329-f3bf-536a22b94c8b"
      },
      "source": [
        "result=[\"abc\",\"xyz\"]\n",
        "print(len(result))"
      ],
      "execution_count": null,
      "outputs": [
        {
          "output_type": "stream",
          "name": "stdout",
          "text": [
            "2\n"
          ]
        }
      ]
    },
    {
      "cell_type": "code",
      "metadata": {
        "id": "zJb7zDfkwtC1"
      },
      "source": [
        ""
      ],
      "execution_count": null,
      "outputs": []
    },
    {
      "cell_type": "markdown",
      "metadata": {
        "id": "bprdjz8cwvRy"
      },
      "source": [
        "<b>Question -2.i</b>\n",
        "(Diagonally Dominance Check)"
      ]
    },
    {
      "cell_type": "code",
      "metadata": {
        "colab": {
          "base_uri": "https://localhost:8080/"
        },
        "id": "e147MKhIw36s",
        "outputId": "3d37e69c-afe7-43fb-d336-59da983ba16d"
      },
      "source": [
        "import random as rd\n",
        "\n",
        "#Function to generate random matrix of range(m,n)\n",
        "# zero_fill is flag to create Zero Matrix\n",
        "def Generate_Random_Matrix(m,n,zero_fill):\n",
        "  #random_matrix = [[0,0],[0,0]]\n",
        "  #random_matrix = [[0 for k in range(m)]] * n\n",
        "  matrix = []\n",
        "  #print(random_matrix)\n",
        "  for i in range(m):\n",
        "    row = []\n",
        "    for j in range(n):\n",
        "      #random_matrix[i][j] = rd.randint(0,100)\n",
        "      if(zero_fill=='Y'):\n",
        "        row.append(0)\n",
        "      else:\n",
        "        row.append(rd.randint(-100,100))\n",
        "    matrix.append(row)\n",
        "  return matrix\n",
        "\n",
        "# Function to check Diagonally Dependent Matrix and Suggest Row movement if possible\n",
        "def is_diagonally_dependent(matrix):\n",
        "  m=len(matrix)\n",
        "  n=len(matrix[0])\n",
        "\n",
        "  print(\"Initialized Matrix B with Zero entries -\")\n",
        "  B = Generate_Random_Matrix(m,n,'Y')\n",
        "  print(B)\n",
        "  print(\"\\n\")\n",
        "\n",
        "  print(\"Update Matrix B as per below condition -\")\n",
        "  print(\"b(i,j) = 1 if |a(i,j)| > a(i,1)| + |a(i,2)| + ... + |a(i,j-1)| + |a(i,j+1)| + |a(i,n)|\")\n",
        "  print(\"       = 0 otherwise\")\n",
        "  print(\"\\n\")\n",
        "\n",
        "  for i in range(m):\n",
        "    sum = 0\n",
        "    for j in range(n):\n",
        "      sum = sum + abs(matrix[i][j])\n",
        "    for k in range(n):\n",
        "      B[i][k] = 1 if(abs(matrix[i][k])> sum - abs(matrix[i][k])) else 0\n",
        " \n",
        "  print(\"Updated Matrix B -\\n\",B,\"\\n\")\n",
        "\n",
        "  # Check for Diagonally Dominance and Row movement if required.\n",
        "  move_rows = \"\"\n",
        "  for i in range(m):\n",
        "    sum = 0\n",
        "    for j in range(n):\n",
        "      sum = sum + B[i][j] # Sum of Row Elements\n",
        "    \n",
        "    if(sum == 1 and B[i][i]==1):\n",
        "      ind = True\n",
        "    else:\n",
        "      if(sum != 1):\n",
        "        ind = False\n",
        "        move_rows = \"No Row Movement Possible\"\n",
        "        return ind,move_rows      \n",
        "      else:\n",
        "        if(sum == 1 and B[i][i] != 1):\n",
        "          move_rows = move_rows + str(i+1) + \" \"\n",
        "          ind = False\n",
        " \n",
        "  return ind,move_rows\n",
        "\n",
        "\n",
        "#A = [[5,-1,3],[2,-8,1],[-2,0,4]]\n",
        "#A = [[-2,0,4],[2,-8,1],[5,-1,3]]\n",
        "#A = [[4,2,-2],[0,4,2],[1,0,4]]\n",
        "A = [[3,1,2],[2,4,1],[1,1,2]]\n",
        " \n",
        "#A = Generate_Random_Matrix(3,3,'N')\n",
        "\n",
        "print(\"Input Matrix A -\\n\",A,\"\\n\")\n",
        "is_diag,rows = is_diagonally_dependent(A)\n",
        "\n",
        "print(\"Result -\")\n",
        "if(is_diag):\n",
        "  print(\"*** A is Diagonally Dependent\")\n",
        "else:\n",
        "  print(\"*** A is Not Diagonally Dependent\")\n",
        "  print(\"*** Required Rows Movement : \",rows)\n",
        "\n"
      ],
      "execution_count": 140,
      "outputs": [
        {
          "output_type": "stream",
          "name": "stdout",
          "text": [
            "Input Matrix A -\n",
            " [[3, 1, 2], [2, 4, 1], [1, 1, 2]] \n",
            "\n",
            "Initialized Matrix B with Zero entries -\n",
            "[[0, 0, 0], [0, 0, 0], [0, 0, 0]]\n",
            "\n",
            "\n",
            "Update Matrix B as per below condition -\n",
            "b(i,j) = 1 if |a(i,j)| > a(i,1)| + |a(i,2)| + ... + |a(i,j-1)| + |a(i,j+1)| + |a(i,n)|\n",
            "       = 0 otherwise\n",
            "\n",
            "\n",
            "Updated Matrix B -\n",
            " [[0, 0, 0], [0, 1, 0], [0, 0, 0]] \n",
            "\n",
            "Result -\n",
            "*** A is Not Diagonally Dependent\n",
            "*** Required Rows Movement :  No Row Movement Possible\n"
          ]
        }
      ]
    },
    {
      "cell_type": "markdown",
      "metadata": {
        "id": "0_7vVAfiIvg3"
      },
      "source": [
        "<b>Question -2.iv</b>\n",
        "(Gauss Seidel Method)"
      ]
    },
    {
      "cell_type": "code",
      "metadata": {
        "colab": {
          "base_uri": "https://localhost:8080/"
        },
        "id": "qg8sC-1QIzKj",
        "outputId": "997eda1f-1d83-4738-8a5f-8c5a69011865"
      },
      "source": [
        "\n",
        "# Defining our function as seidel which takes 3 arguments\n",
        "# as A matrix, Solution and B matrix\n",
        "   \n",
        "def seidel(a, x ,b):\n",
        "    #Finding length of a(3)       \n",
        "    n = len(a)                   \n",
        "    # for loop for 3 times as to calculate x, y , z\n",
        "    converge_ind = 1\n",
        "    for j in range(0, n):        \n",
        "        # temp variable d to store b[j]\n",
        "        d = b[j]                  \n",
        "\n",
        "        # Hodl the old X value\n",
        "        y = x[j]  \n",
        "        # to calculate respective xi, yi, zi\n",
        "        for i in range(0, n):     \n",
        "            if(j != i):\n",
        "                d-=a[j][i] * x[i]\n",
        "        # updating the value of our solution        \n",
        "        x[j] = d / a[j][j]\n",
        "        \n",
        "        print(x[j] - y)\n",
        "        if(x[j] - y < 0.0001):          \n",
        "          converge_ind = converge_ind * 1\n",
        "        else:\n",
        "          converge_ind = 0\n",
        "    # returning our updated solution           \n",
        "    return x,converge_ind    \n",
        "\n",
        "def jacobi(a, x ,b):\n",
        "    #Finding length of a(3)       \n",
        "    n = len(a)                   \n",
        "    # for loop for 3 times as to calculate x, y , z\n",
        "    converge_ind = 1\n",
        "    for j in range(0, n):        \n",
        "        # temp variable d to store b[j]\n",
        "        d = b[j]                  \n",
        "\n",
        "        # Hodl the old X value\n",
        "        y = x[j]  \n",
        "        # to calculate respective xi, yi, zi\n",
        "        for i in range(0, n):     \n",
        "            if(j != i):\n",
        "                d-=a[j][i] * x[i]\n",
        "        # updating the value of our solution        \n",
        "        x[j] = d / a[j][j]\n",
        "        \n",
        "        print(x[j] - y)\n",
        "        if(x[j] - y < 0.0001):          \n",
        "          converge_ind = converge_ind * 1\n",
        "        else:\n",
        "          converge_ind = 0\n",
        "    # returning our updated solution           \n",
        "    return x,converge_ind  \n",
        "\n",
        "\n",
        "# int(input())input as number of variable to be solved                \n",
        "n = 3                              \n",
        "a = []                            \n",
        "b = []        \n",
        "# initial solution depending on n(here n=3)                     \n",
        "x = [0, 0, 0]                        \n",
        "a = [[20, 1, -2],[3, 20, -1],[2, -3, 20]]\n",
        "b = [17,-18,25]\n",
        "\n",
        "print(\"A = \",a)\n",
        "print(\"X = \",x)\n",
        "print(\"B = \",b,\"\\n\")\n",
        "converge_ind = 0\n",
        "#loop run for m times depending on m the error value\n",
        "for i in range(0, 10):            \n",
        "    x,converge_ind = seidel(a, x, b)\n",
        "    #print each time the updated solution\n",
        "    print(\"Iteration: \",i,\" - \",x)\n",
        "    #print(\"Converging: \",converge_ind)\n",
        "    if(converge_ind):\n",
        "      break;"
      ],
      "execution_count": 4,
      "outputs": [
        {
          "output_type": "stream",
          "name": "stdout",
          "text": [
            "A =  [[20, 1, -2], [3, 20, -1], [2, -3, 20]]\n",
            "X =  [0, 0, 0]\n",
            "B =  [17, -18, 25] \n",
            "\n",
            "0.85\n",
            "-1.0275\n",
            "1.010875\n",
            "Iteration:  0  -  [0.85, -1.0275, 1.010875]\n",
            "0.15246250000000006\n",
            "0.02767437500000003\n",
            "-0.011095093749999951\n",
            "Iteration:  1  -  [1.0024625, -0.999825625, 0.99977990625]\n",
            "-0.00249322812500008\n",
            "-0.00018077046874986902\n",
            "0.00022220724218768861\n",
            "Iteration:  2  -  [0.999969271875, -1.00000639546875, 1.0000021134921877]\n",
            "3.125924765634558e-05\n",
            "6.4214749607716115e-06\n",
            "-2.162703521713105e-06\n",
            "Iteration:  3  -  [1.0000005311226563, -0.9999999739937891, 0.999999950788666]\n"
          ]
        }
      ]
    },
    {
      "cell_type": "markdown",
      "metadata": {
        "id": "nftCO4bxX-Iu"
      },
      "source": [
        "**Q2.ii and iii**"
      ]
    },
    {
      "cell_type": "code",
      "metadata": {
        "colab": {
          "base_uri": "https://localhost:8080/"
        },
        "id": "U9zQQd2rYCE0",
        "outputId": "41555095-f705-492f-eb92-788ccf640bb3"
      },
      "source": [
        "import numpy as np\n",
        "a = np.float_(np.random.randint(1,10,size=(4,4)))\n",
        "print(\"input matrix\\n\",a) \n",
        "b =(np.diag(a))\n",
        "for i in range(0, 4):\n",
        "  n = b[i]\n",
        "  for j in range(0,4):\n",
        "    factor = a[i, j] /  n\n",
        "    a[i, j] =factor\n",
        "\n",
        "U = np.triu(a,1)\n",
        "L = np.tril(a,-1)\n",
        "I = np.tril(np.triu(a))\n",
        "D= I+L\n",
        "\n",
        "def norm(n,m,d):\n",
        "  f = 0\n",
        "  for i in np.arange(n):\n",
        "    for j in np.arange(m):\n",
        "      f = f + np.sum(np.power(np.abs(d[i, j]), 2))\n",
        "  print(\"\\nFrobenius Norm\", np.sqrt(f))\n",
        "\n",
        "  colsums = []\n",
        "  for i in np.arange(m):\n",
        "      v = np.sum(np.abs(d[:, i]))\n",
        "      colsums.append(v)\n",
        "\n",
        "  print(\"1 -Norm\", np.max(colsums))\n",
        "\n",
        "  rowsums = []\n",
        "  for i in np.arange(n):\n",
        "      v = np.sum(np.absolute(d[i, :]))\n",
        "      rowsums.append(v)\n",
        "\n",
        "  print(\"∞ -Norm\", np.max(rowsums))\n",
        "\n",
        "def jacobi(U,L):\n",
        "  d = -(L+U)\n",
        "  print(\"Gause jacobi iteration matrix\\n\", d)\n",
        "  n, m = d.shape\n",
        "  norm(n,m,d)\n",
        "\n",
        "def seidel(D,U):\n",
        "  c = np.linalg.inv(D)\n",
        "  d = np.dot(c,U)\n",
        "  print(\"\\nGause seidel iteration matrix\\n\", d)\n",
        "  n, m = d.shape\n",
        "  norm(n,m,d)\n",
        "\n",
        "jacobi(U,L)\n",
        "seidel(D,U)"
      ],
      "execution_count": 15,
      "outputs": [
        {
          "output_type": "stream",
          "name": "stdout",
          "text": [
            "input matrix\n",
            " [[9. 8. 2. 5.]\n",
            " [4. 8. 8. 7.]\n",
            " [6. 3. 6. 4.]\n",
            " [1. 5. 6. 9.]]\n",
            "Gause jacobi iteration matrix\n",
            " [[-0.         -0.88888889 -0.22222222 -0.55555556]\n",
            " [-0.5        -0.         -1.         -0.875     ]\n",
            " [-1.         -0.5        -0.         -0.66666667]\n",
            " [-0.11111111 -0.55555556 -0.66666667 -0.        ]]\n",
            "\n",
            "Frobenius Norm 2.3714235579832685\n",
            "1 -Norm 2.0972222222222223\n",
            "∞ -Norm 2.375\n",
            "\n",
            "Gause seidel iteration matrix\n",
            " [[ 0.          0.88888889  0.22222222  0.55555556]\n",
            " [ 0.         -0.44444444  0.88888889  0.59722222]\n",
            " [ 0.         -0.66666667 -0.66666667 -0.1875    ]\n",
            " [ 0.          0.59259259 -0.07407407 -0.26851852]]\n",
            "\n",
            "Frobenius Norm 1.9609378202211467\n",
            "1 -Norm 2.5925925925925926\n",
            "∞ -Norm 1.9305555555555554\n"
          ]
        }
      ]
    },
    {
      "cell_type": "code",
      "metadata": {
        "colab": {
          "base_uri": "https://localhost:8080/",
          "height": 300
        },
        "id": "ZlgoD-L3YCIg",
        "outputId": "e8a2af55-5fbe-48c5-f463-f27d1032ab81"
      },
      "source": [
        "import numpy as np\n",
        "import matplotlib.pyplot as plt\n",
        "\n",
        "# evenly sampled time at 200ms intervals\n",
        "t = [0.85,-1.0275,1.010875]\n",
        "\n",
        "\n",
        "x = [1, 2, 3]\n",
        "y = np.array([[1, 2], [3, 4], [5, 6]])\n",
        "plt.plot(x, y)\n",
        "\n",
        "# red dashes, blue squares and green triangles\n",
        "#plt.plot(t, t, 'r--', t, t**2, 'bs', t, t**3, 'g^')\n",
        "#plt.show()"
      ],
      "execution_count": 16,
      "outputs": [
        {
          "output_type": "execute_result",
          "data": {
            "text/plain": [
              "[<matplotlib.lines.Line2D at 0x7f236be56890>,\n",
              " <matplotlib.lines.Line2D at 0x7f236be56ad0>]"
            ]
          },
          "metadata": {},
          "execution_count": 16
        },
        {
          "output_type": "display_data",
          "data": {
            "image/png": "[encoded data removed]",
            "text/plain": [
              "<Figure size 432x288 with 1 Axes>"
            ]
          },
          "metadata": {
            "needs_background": "light"
          }
        }
      ]
    }
  ]
}